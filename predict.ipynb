{
 "metadata": {
  "language_info": {
   "codemirror_mode": {
    "name": "ipython",
    "version": 3
   },
   "file_extension": ".py",
   "mimetype": "text/x-python",
   "name": "python",
   "nbconvert_exporter": "python",
   "pygments_lexer": "ipython3",
   "version": "3.7.9-final"
  },
  "orig_nbformat": 2,
  "kernelspec": {
   "name": "python3",
   "display_name": "Python 3.7.9 64-bit ('tf_gpu': conda)",
   "metadata": {
    "interpreter": {
     "hash": "e9e0ea7ddf7cf371a8c7549409fbda9c2d3657334e0b0818ca6f5a65d9fc1f57"
    }
   }
  }
 },
 "nbformat": 4,
 "nbformat_minor": 2,
 "cells": [
  {
   "cell_type": "code",
   "execution_count": 1,
   "metadata": {},
   "outputs": [],
   "source": [
    "from tensorflow.keras.preprocessing.image import load_img,img_to_array\n",
    "from tensorflow.keras.models import load_model\n",
    "import cv2\n",
    "import pickle\n",
    "import imutils\n",
    "import numpy as np"
   ]
  },
  {
   "cell_type": "code",
   "execution_count": 2,
   "metadata": {},
   "outputs": [],
   "source": [
    "# load the models trained\n",
    "model = load_model(r\".\\model\\detector.h5\")\n",
    "lb = pickle.loads(open(r\".\\model\\label_binarizer.h5\", \"rb\").read())"
   ]
  },
  {
   "cell_type": "code",
   "execution_count": 3,
   "metadata": {},
   "outputs": [],
   "source": [
    "image = load_img(r\".\\dataset\\airplane\\image_0001.jpg\",target_size=(224,224))\n",
    "image = img_to_array(image) / 255.0\n",
    "image = np.expand_dims(image,axis=0)\n",
    "(boxPreds, labelPreds) = model.predict(image)\n",
    "(x_start,y_start,x_end,y_end) = boxPreds[0]\n",
    "i = np.argmax(labelPreds, axis=1)\n",
    "label = lb.classes_[i][0]"
   ]
  },
  {
   "cell_type": "code",
   "execution_count": 6,
   "metadata": {},
   "outputs": [
    {
     "output_type": "stream",
     "name": "stdout",
     "text": [
      "76 43 526 208\n"
     ]
    },
    {
     "output_type": "execute_result",
     "data": {
      "text/plain": [
       "-1"
      ]
     },
     "metadata": {},
     "execution_count": 6
    }
   ],
   "source": [
    "image = cv2.imread(r\".\\dataset\\airplane\\image_0001.jpg\")\n",
    "image = imutils.resize(image, width=600)\n",
    "cv2.imshow(\"original\",image)\n",
    "(h, w) = image.shape[:2]\n",
    "# scale the predicted bounding box coordinates based on the image\n",
    "# dimensions\n",
    "startX = int(x_start * w )\n",
    "startY = int(y_start * h )\n",
    "endX = int(x_end * w )\n",
    "endY = int(y_end * h )\n",
    "print(startX,startY,endX,endY)\n",
    "# draw the predicted bounding box and class label on the image\n",
    "y = startY - 10 if startY - 10 > 10 else startY + 10\n",
    "cv2.putText(image, label, (startX, y), cv2.FONT_HERSHEY_SIMPLEX, 0.65, (0, 255, 0), 2)\n",
    "cv2.rectangle(image, (startX, startY), (endX, endY), (255, 0, 0), 2)\n",
    "# show the output image\n",
    "cv2.imshow(\"Output\", image)\n",
    "cv2.waitKey(0)"
   ]
  }
 ]
}